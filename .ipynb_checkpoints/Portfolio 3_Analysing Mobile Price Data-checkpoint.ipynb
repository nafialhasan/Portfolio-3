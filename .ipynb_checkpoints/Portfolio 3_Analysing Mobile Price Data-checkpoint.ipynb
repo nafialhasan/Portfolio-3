{
 "cells": [
  {
   "cell_type": "markdown",
   "metadata": {
    "id": "n0ZKqZaTWkpg"
   },
   "source": [
    "# Portfolio Part 3 - Analysis of Mobile Price Data (2024 S1)"
   ]
  },
  {
   "cell_type": "markdown",
   "metadata": {},
   "source": [
    "## Name : Nafi Al Hasan"
   ]
  },
  {
   "cell_type": "markdown",
   "metadata": {
    "id": "O9R7rVmlXaMX"
   },
   "source": [
    "In this Portfolio task, you will work on a new dataset named 'Mobile Price Data', it contains numerous details about mobile phone hardware, specifications, and prices. Your main task is to train classification models to predict **mobile phone prices** ('price range' in the dataset)and evaluate the strengths and weaknesses of these models."
   ]
  },
  {
   "cell_type": "markdown",
   "metadata": {
    "id": "zHC8wWkVZVBG"
   },
   "source": [
    "Here's the explanation of each column:"
   ]
  },
  {
   "cell_type": "markdown",
   "metadata": {
    "id": "_O1tyfN3ZvE-"
   },
   "source": [
    "|Column|Meaning|\n",
    "|:-----:|:-----:|\n",
    "|battery power|Total energy a battery can store in one time measured in mAh|\n",
    "|blue|Has bluetooth or not|\n",
    "|clock speed|speed at which microprocessor executes instructions|\n",
    "|dual sim|Has dual sim support or not|\n",
    "|fc|Front Camera mega pixels|\n",
    "|four g|Has 4G or not|\n",
    "|int memory|Internal Memory in Gigabytes|\n",
    "|m dep|Mobile Depth in cm|\n",
    "|mobile wt|Weight of mobile phone|\n",
    "|n cores|Number of cores of processor|\n",
    "|pc|Primary Camera mega pixels|\n",
    "|px height|Pixel Resolution Height|\n",
    "|px width|Pixel Resolution Width|\n",
    "|ram|Random Access Memory in Mega Bytes|\n",
    "|sc h|Screen Height of mobile in cm|\n",
    "|sc w|Screen Width of mobile in cm|\n",
    "|talk time|longest time that a single battery charge will last when you are|\n",
    "|three g|Has 3G or not|\n",
    "|touch screen|Has touch screen or not|\n",
    "|wifi|Has wifi or not|\n",
    "|price range|This is the target variable with value of 0(low cost), 1(medium cost), 2(high cost) and 3(very high cost)|"
   ]
  },
  {
   "cell_type": "markdown",
   "metadata": {
    "id": "fmFqaGooclqa"
   },
   "source": [
    "Blue, dual sim, four g, three g, touch screen, and wifi are all binary attributes, 0 for not and 1 for yes."
   ]
  },
  {
   "cell_type": "markdown",
   "metadata": {
    "id": "o0VDQbC-es_8"
   },
   "source": [
    "Your high level goal in this notebook is to build and evaluate predictive models for 'price range' from other available features. More specifically, you need to **complete the following major steps**:\n",
    "\n",
    "1. ***Explore the data*** and ***clean the data if necessary***. For example, remove abnormal instanaces and replace missing values.\n",
    "\n",
    "2. ***Study the correlation*** between 'price range' with other features. And ***select the variables*** that you think are helpful for predicting the price range. We do not limit the number of variables.\n",
    "\n",
    "3. ***Split the dataset*** (Trainging set : Test set = 8 : 2)\n",
    "\n",
    "4. ***Train a logistic regression model*** to predict 'price range' based on the selected features (from the second step). ***Calculate the accuracy*** of your model. (You are required to report the accuracy from both training set and test set.) ***Explain your model and evaluate its performance*** (Is the model performing well? If yes, what factors might be contributing to the good performance of your model? If not, how can improvements be made?).\n",
    "\n",
    "5. ***Train a KNN model*** to predict 'price range' based on the selected features (you can use the features selected from the second step and set K with an ad-hoc manner in this step. ***Calculate the accuracy*** of your model. (You are required to report the accuracy from both training set and test set.)\n",
    "\n",
    "6. ***Tune the hyper-parameter K*** in KNN (Hints: GridsearchCV), ***visualize the results***, and ***explain*** how K influences the prediction performance.\n",
    "\n",
    "  Hints for visualization: You can use line chart to visualize K and mean accuracy scores on test set."
   ]
  },
  {
   "cell_type": "markdown",
   "metadata": {
    "id": "RAcIxzIldzSZ"
   },
   "source": [
    "Note 1: In this assignment, we no longer provide specific guidance and templates for each sub task. You should learn how to properly comment your notebook by yourself to make your notebook file readable.\n",
    "\n",
    "Note 2: You will not being evaluated on the accuracy of the model but on the process that you use to generate it and your explanation."
   ]
  },
  {
   "cell_type": "markdown",
   "metadata": {},
   "source": [
    "## Importing libraries"
   ]
  },
  {
   "cell_type": "code",
   "execution_count": 2,
   "metadata": {
    "id": "UpCBB45NV0p_"
   },
   "outputs": [],
   "source": [
    "# importing necessary libraries\n",
    "\n",
    "import pandas as pd\n",
    "import numpy as np\n",
    "\n",
    "import seaborn as sns\n",
    "import matplotlib.pyplot as plt\n",
    "%matplotlib inline\n",
    "\n",
    "import warnings\n",
    "warnings.filterwarnings('ignore')\n",
    "\n",
    "from sklearn.model_selection import train_test_split\n",
    "from sklearn.linear_model import LogisticRegression\n",
    "from sklearn.metrics import r2_score\n",
    "from sklearn.metrics import accuracy_score\n",
    "from sklearn.neighbors import KNeighborsClassifier\n",
    "from sklearn.model_selection import GridSearchCV"
   ]
  },
  {
   "cell_type": "code",
   "execution_count": 3,
   "metadata": {},
   "outputs": [],
   "source": [
    "# importing the dataset\n",
    "\n",
    "mobile_price_data = pd.read_csv(\"Mobile_Price_Data.csv\")"
   ]
  },
  {
   "cell_type": "markdown",
   "metadata": {},
   "source": [
    "## Exploring the dataset"
   ]
  },
  {
   "cell_type": "code",
   "execution_count": 4,
   "metadata": {},
   "outputs": [
    {
     "data": {
      "text/html": [
       "<div>\n",
       "<style scoped>\n",
       "    .dataframe tbody tr th:only-of-type {\n",
       "        vertical-align: middle;\n",
       "    }\n",
       "\n",
       "    .dataframe tbody tr th {\n",
       "        vertical-align: top;\n",
       "    }\n",
       "\n",
       "    .dataframe thead th {\n",
       "        text-align: right;\n",
       "    }\n",
       "</style>\n",
       "<table border=\"1\" class=\"dataframe\">\n",
       "  <thead>\n",
       "    <tr style=\"text-align: right;\">\n",
       "      <th></th>\n",
       "      <th>battery_power</th>\n",
       "      <th>blue</th>\n",
       "      <th>clock_speed</th>\n",
       "      <th>dual_sim</th>\n",
       "      <th>fc</th>\n",
       "      <th>four_g</th>\n",
       "      <th>int_memory</th>\n",
       "      <th>m_dep</th>\n",
       "      <th>mobile_wt</th>\n",
       "      <th>n_cores</th>\n",
       "      <th>...</th>\n",
       "      <th>px_height</th>\n",
       "      <th>px_width</th>\n",
       "      <th>ram</th>\n",
       "      <th>sc_h</th>\n",
       "      <th>sc_w</th>\n",
       "      <th>talk_time</th>\n",
       "      <th>three_g</th>\n",
       "      <th>touch_screen</th>\n",
       "      <th>wifi</th>\n",
       "      <th>price_range</th>\n",
       "    </tr>\n",
       "  </thead>\n",
       "  <tbody>\n",
       "    <tr>\n",
       "      <th>0</th>\n",
       "      <td>842</td>\n",
       "      <td>0</td>\n",
       "      <td>2.2</td>\n",
       "      <td>0</td>\n",
       "      <td>1</td>\n",
       "      <td>0</td>\n",
       "      <td>7.0</td>\n",
       "      <td>0.6</td>\n",
       "      <td>188</td>\n",
       "      <td>2</td>\n",
       "      <td>...</td>\n",
       "      <td>20</td>\n",
       "      <td>756.0</td>\n",
       "      <td>2549.0</td>\n",
       "      <td>9</td>\n",
       "      <td>7</td>\n",
       "      <td>19</td>\n",
       "      <td>0.0</td>\n",
       "      <td>0</td>\n",
       "      <td>1</td>\n",
       "      <td>1</td>\n",
       "    </tr>\n",
       "    <tr>\n",
       "      <th>1</th>\n",
       "      <td>1021</td>\n",
       "      <td>1</td>\n",
       "      <td>0.5</td>\n",
       "      <td>1</td>\n",
       "      <td>0</td>\n",
       "      <td>1</td>\n",
       "      <td>53.0</td>\n",
       "      <td>0.7</td>\n",
       "      <td>136</td>\n",
       "      <td>3</td>\n",
       "      <td>...</td>\n",
       "      <td>905</td>\n",
       "      <td>1988.0</td>\n",
       "      <td>2631.0</td>\n",
       "      <td>17</td>\n",
       "      <td>3</td>\n",
       "      <td>7</td>\n",
       "      <td>1.0</td>\n",
       "      <td>1</td>\n",
       "      <td>0</td>\n",
       "      <td>2</td>\n",
       "    </tr>\n",
       "    <tr>\n",
       "      <th>2</th>\n",
       "      <td>563</td>\n",
       "      <td>1</td>\n",
       "      <td>0.5</td>\n",
       "      <td>1</td>\n",
       "      <td>2</td>\n",
       "      <td>1</td>\n",
       "      <td>41.0</td>\n",
       "      <td>0.9</td>\n",
       "      <td>145</td>\n",
       "      <td>5</td>\n",
       "      <td>...</td>\n",
       "      <td>1263</td>\n",
       "      <td>1716.0</td>\n",
       "      <td>2603.0</td>\n",
       "      <td>11</td>\n",
       "      <td>2</td>\n",
       "      <td>9</td>\n",
       "      <td>1.0</td>\n",
       "      <td>1</td>\n",
       "      <td>0</td>\n",
       "      <td>2</td>\n",
       "    </tr>\n",
       "    <tr>\n",
       "      <th>3</th>\n",
       "      <td>615</td>\n",
       "      <td>1</td>\n",
       "      <td>2.5</td>\n",
       "      <td>0</td>\n",
       "      <td>0</td>\n",
       "      <td>0</td>\n",
       "      <td>10.0</td>\n",
       "      <td>0.8</td>\n",
       "      <td>131</td>\n",
       "      <td>6</td>\n",
       "      <td>...</td>\n",
       "      <td>1216</td>\n",
       "      <td>1786.0</td>\n",
       "      <td>2769.0</td>\n",
       "      <td>16</td>\n",
       "      <td>8</td>\n",
       "      <td>11</td>\n",
       "      <td>1.0</td>\n",
       "      <td>0</td>\n",
       "      <td>0</td>\n",
       "      <td>2</td>\n",
       "    </tr>\n",
       "    <tr>\n",
       "      <th>4</th>\n",
       "      <td>1821</td>\n",
       "      <td>1</td>\n",
       "      <td>1.2</td>\n",
       "      <td>0</td>\n",
       "      <td>13</td>\n",
       "      <td>1</td>\n",
       "      <td>44.0</td>\n",
       "      <td>0.6</td>\n",
       "      <td>141</td>\n",
       "      <td>2</td>\n",
       "      <td>...</td>\n",
       "      <td>1208</td>\n",
       "      <td>1212.0</td>\n",
       "      <td>1411.0</td>\n",
       "      <td>8</td>\n",
       "      <td>2</td>\n",
       "      <td>15</td>\n",
       "      <td>1.0</td>\n",
       "      <td>1</td>\n",
       "      <td>0</td>\n",
       "      <td>1</td>\n",
       "    </tr>\n",
       "    <tr>\n",
       "      <th>...</th>\n",
       "      <td>...</td>\n",
       "      <td>...</td>\n",
       "      <td>...</td>\n",
       "      <td>...</td>\n",
       "      <td>...</td>\n",
       "      <td>...</td>\n",
       "      <td>...</td>\n",
       "      <td>...</td>\n",
       "      <td>...</td>\n",
       "      <td>...</td>\n",
       "      <td>...</td>\n",
       "      <td>...</td>\n",
       "      <td>...</td>\n",
       "      <td>...</td>\n",
       "      <td>...</td>\n",
       "      <td>...</td>\n",
       "      <td>...</td>\n",
       "      <td>...</td>\n",
       "      <td>...</td>\n",
       "      <td>...</td>\n",
       "      <td>...</td>\n",
       "    </tr>\n",
       "    <tr>\n",
       "      <th>1995</th>\n",
       "      <td>794</td>\n",
       "      <td>1</td>\n",
       "      <td>0.5</td>\n",
       "      <td>1</td>\n",
       "      <td>0</td>\n",
       "      <td>1</td>\n",
       "      <td>2.0</td>\n",
       "      <td>0.8</td>\n",
       "      <td>106</td>\n",
       "      <td>6</td>\n",
       "      <td>...</td>\n",
       "      <td>1222</td>\n",
       "      <td>1890.0</td>\n",
       "      <td>668.0</td>\n",
       "      <td>13</td>\n",
       "      <td>4</td>\n",
       "      <td>19</td>\n",
       "      <td>1.0</td>\n",
       "      <td>1</td>\n",
       "      <td>0</td>\n",
       "      <td>0</td>\n",
       "    </tr>\n",
       "    <tr>\n",
       "      <th>1996</th>\n",
       "      <td>1965</td>\n",
       "      <td>1</td>\n",
       "      <td>2.6</td>\n",
       "      <td>1</td>\n",
       "      <td>0</td>\n",
       "      <td>0</td>\n",
       "      <td>39.0</td>\n",
       "      <td>0.2</td>\n",
       "      <td>187</td>\n",
       "      <td>4</td>\n",
       "      <td>...</td>\n",
       "      <td>915</td>\n",
       "      <td>1965.0</td>\n",
       "      <td>2032.0</td>\n",
       "      <td>11</td>\n",
       "      <td>10</td>\n",
       "      <td>16</td>\n",
       "      <td>1.0</td>\n",
       "      <td>1</td>\n",
       "      <td>1</td>\n",
       "      <td>2</td>\n",
       "    </tr>\n",
       "    <tr>\n",
       "      <th>1997</th>\n",
       "      <td>1911</td>\n",
       "      <td>0</td>\n",
       "      <td>0.9</td>\n",
       "      <td>1</td>\n",
       "      <td>1</td>\n",
       "      <td>1</td>\n",
       "      <td>36.0</td>\n",
       "      <td>0.7</td>\n",
       "      <td>108</td>\n",
       "      <td>8</td>\n",
       "      <td>...</td>\n",
       "      <td>868</td>\n",
       "      <td>1632.0</td>\n",
       "      <td>3057.0</td>\n",
       "      <td>9</td>\n",
       "      <td>1</td>\n",
       "      <td>5</td>\n",
       "      <td>1.0</td>\n",
       "      <td>1</td>\n",
       "      <td>0</td>\n",
       "      <td>3</td>\n",
       "    </tr>\n",
       "    <tr>\n",
       "      <th>1998</th>\n",
       "      <td>1512</td>\n",
       "      <td>0</td>\n",
       "      <td>0.9</td>\n",
       "      <td>0</td>\n",
       "      <td>4</td>\n",
       "      <td>1</td>\n",
       "      <td>46.0</td>\n",
       "      <td>0.1</td>\n",
       "      <td>145</td>\n",
       "      <td>5</td>\n",
       "      <td>...</td>\n",
       "      <td>336</td>\n",
       "      <td>670.0</td>\n",
       "      <td>869.0</td>\n",
       "      <td>18</td>\n",
       "      <td>10</td>\n",
       "      <td>19</td>\n",
       "      <td>1.0</td>\n",
       "      <td>1</td>\n",
       "      <td>1</td>\n",
       "      <td>0</td>\n",
       "    </tr>\n",
       "    <tr>\n",
       "      <th>1999</th>\n",
       "      <td>510</td>\n",
       "      <td>1</td>\n",
       "      <td>2.0</td>\n",
       "      <td>1</td>\n",
       "      <td>5</td>\n",
       "      <td>1</td>\n",
       "      <td>45.0</td>\n",
       "      <td>0.9</td>\n",
       "      <td>168</td>\n",
       "      <td>6</td>\n",
       "      <td>...</td>\n",
       "      <td>483</td>\n",
       "      <td>754.0</td>\n",
       "      <td>3919.0</td>\n",
       "      <td>19</td>\n",
       "      <td>4</td>\n",
       "      <td>2</td>\n",
       "      <td>1.0</td>\n",
       "      <td>1</td>\n",
       "      <td>1</td>\n",
       "      <td>3</td>\n",
       "    </tr>\n",
       "  </tbody>\n",
       "</table>\n",
       "<p>2000 rows × 21 columns</p>\n",
       "</div>"
      ],
      "text/plain": [
       "      battery_power  blue  clock_speed  dual_sim  fc  four_g  int_memory  \\\n",
       "0               842     0          2.2         0   1       0         7.0   \n",
       "1              1021     1          0.5         1   0       1        53.0   \n",
       "2               563     1          0.5         1   2       1        41.0   \n",
       "3               615     1          2.5         0   0       0        10.0   \n",
       "4              1821     1          1.2         0  13       1        44.0   \n",
       "...             ...   ...          ...       ...  ..     ...         ...   \n",
       "1995            794     1          0.5         1   0       1         2.0   \n",
       "1996           1965     1          2.6         1   0       0        39.0   \n",
       "1997           1911     0          0.9         1   1       1        36.0   \n",
       "1998           1512     0          0.9         0   4       1        46.0   \n",
       "1999            510     1          2.0         1   5       1        45.0   \n",
       "\n",
       "      m_dep  mobile_wt  n_cores  ...  px_height  px_width     ram  sc_h  sc_w  \\\n",
       "0       0.6        188        2  ...         20     756.0  2549.0     9     7   \n",
       "1       0.7        136        3  ...        905    1988.0  2631.0    17     3   \n",
       "2       0.9        145        5  ...       1263    1716.0  2603.0    11     2   \n",
       "3       0.8        131        6  ...       1216    1786.0  2769.0    16     8   \n",
       "4       0.6        141        2  ...       1208    1212.0  1411.0     8     2   \n",
       "...     ...        ...      ...  ...        ...       ...     ...   ...   ...   \n",
       "1995    0.8        106        6  ...       1222    1890.0   668.0    13     4   \n",
       "1996    0.2        187        4  ...        915    1965.0  2032.0    11    10   \n",
       "1997    0.7        108        8  ...        868    1632.0  3057.0     9     1   \n",
       "1998    0.1        145        5  ...        336     670.0   869.0    18    10   \n",
       "1999    0.9        168        6  ...        483     754.0  3919.0    19     4   \n",
       "\n",
       "      talk_time  three_g  touch_screen  wifi  price_range  \n",
       "0            19      0.0             0     1            1  \n",
       "1             7      1.0             1     0            2  \n",
       "2             9      1.0             1     0            2  \n",
       "3            11      1.0             0     0            2  \n",
       "4            15      1.0             1     0            1  \n",
       "...         ...      ...           ...   ...          ...  \n",
       "1995         19      1.0             1     0            0  \n",
       "1996         16      1.0             1     1            2  \n",
       "1997          5      1.0             1     0            3  \n",
       "1998         19      1.0             1     1            0  \n",
       "1999          2      1.0             1     1            3  \n",
       "\n",
       "[2000 rows x 21 columns]"
      ]
     },
     "metadata": {},
     "output_type": "display_data"
    }
   ],
   "source": [
    "# displaying the dataset\n",
    "\n",
    "display(mobile_price_data)"
   ]
  },
  {
   "cell_type": "code",
   "execution_count": 5,
   "metadata": {},
   "outputs": [
    {
     "data": {
      "text/plain": [
       "Index(['battery_power', 'blue', 'clock_speed', 'dual_sim', 'fc', 'four_g',\n",
       "       'int_memory', 'm_dep', 'mobile_wt', 'n_cores', 'pc', 'px_height',\n",
       "       'px_width', 'ram', 'sc_h', 'sc_w', 'talk_time', 'three_g',\n",
       "       'touch_screen', 'wifi', 'price_range'],\n",
       "      dtype='object')"
      ]
     },
     "execution_count": 5,
     "metadata": {},
     "output_type": "execute_result"
    }
   ],
   "source": [
    "# finding the list of columns in the dataset\n",
    "\n",
    "mobile_price_data.columns"
   ]
  },
  {
   "cell_type": "code",
   "execution_count": 6,
   "metadata": {},
   "outputs": [
    {
     "name": "stdout",
     "output_type": "stream",
     "text": [
      "<class 'pandas.core.frame.DataFrame'>\n",
      "RangeIndex: 2000 entries, 0 to 1999\n",
      "Data columns (total 21 columns):\n",
      " #   Column         Non-Null Count  Dtype  \n",
      "---  ------         --------------  -----  \n",
      " 0   battery_power  2000 non-null   int64  \n",
      " 1   blue           2000 non-null   int64  \n",
      " 2   clock_speed    2000 non-null   float64\n",
      " 3   dual_sim       2000 non-null   int64  \n",
      " 4   fc             2000 non-null   int64  \n",
      " 5   four_g         2000 non-null   int64  \n",
      " 6   int_memory     1999 non-null   float64\n",
      " 7   m_dep          1999 non-null   float64\n",
      " 8   mobile_wt      2000 non-null   int64  \n",
      " 9   n_cores        2000 non-null   int64  \n",
      " 10  pc             2000 non-null   int64  \n",
      " 11  px_height      2000 non-null   int64  \n",
      " 12  px_width       1999 non-null   float64\n",
      " 13  ram            1999 non-null   float64\n",
      " 14  sc_h           2000 non-null   int64  \n",
      " 15  sc_w           2000 non-null   int64  \n",
      " 16  talk_time      2000 non-null   int64  \n",
      " 17  three_g        1999 non-null   float64\n",
      " 18  touch_screen   2000 non-null   int64  \n",
      " 19  wifi           2000 non-null   int64  \n",
      " 20  price_range    2000 non-null   int64  \n",
      "dtypes: float64(6), int64(15)\n",
      "memory usage: 328.3 KB\n"
     ]
    }
   ],
   "source": [
    "# finding the column types\n",
    "\n",
    "mobile_price_data.info()"
   ]
  },
  {
   "cell_type": "code",
   "execution_count": 7,
   "metadata": {},
   "outputs": [
    {
     "data": {
      "text/plain": [
       "(2000, 21)"
      ]
     },
     "execution_count": 7,
     "metadata": {},
     "output_type": "execute_result"
    }
   ],
   "source": [
    "# finding the number of data and columns in the dataset\n",
    "\n",
    "mobile_price_data.shape"
   ]
  },
  {
   "cell_type": "code",
   "execution_count": 8,
   "metadata": {},
   "outputs": [
    {
     "data": {
      "text/html": [
       "<div>\n",
       "<style scoped>\n",
       "    .dataframe tbody tr th:only-of-type {\n",
       "        vertical-align: middle;\n",
       "    }\n",
       "\n",
       "    .dataframe tbody tr th {\n",
       "        vertical-align: top;\n",
       "    }\n",
       "\n",
       "    .dataframe thead th {\n",
       "        text-align: right;\n",
       "    }\n",
       "</style>\n",
       "<table border=\"1\" class=\"dataframe\">\n",
       "  <thead>\n",
       "    <tr style=\"text-align: right;\">\n",
       "      <th></th>\n",
       "      <th>battery_power</th>\n",
       "      <th>blue</th>\n",
       "      <th>clock_speed</th>\n",
       "      <th>dual_sim</th>\n",
       "      <th>fc</th>\n",
       "      <th>four_g</th>\n",
       "      <th>int_memory</th>\n",
       "      <th>m_dep</th>\n",
       "      <th>mobile_wt</th>\n",
       "      <th>n_cores</th>\n",
       "      <th>...</th>\n",
       "      <th>px_height</th>\n",
       "      <th>px_width</th>\n",
       "      <th>ram</th>\n",
       "      <th>sc_h</th>\n",
       "      <th>sc_w</th>\n",
       "      <th>talk_time</th>\n",
       "      <th>three_g</th>\n",
       "      <th>touch_screen</th>\n",
       "      <th>wifi</th>\n",
       "      <th>price_range</th>\n",
       "    </tr>\n",
       "  </thead>\n",
       "  <tbody>\n",
       "    <tr>\n",
       "      <th>count</th>\n",
       "      <td>2000.000000</td>\n",
       "      <td>2000.0000</td>\n",
       "      <td>2000.000000</td>\n",
       "      <td>2000.000000</td>\n",
       "      <td>2000.000000</td>\n",
       "      <td>2000.000000</td>\n",
       "      <td>1999.000000</td>\n",
       "      <td>1999.000000</td>\n",
       "      <td>2000.000000</td>\n",
       "      <td>2000.000000</td>\n",
       "      <td>...</td>\n",
       "      <td>2000.000000</td>\n",
       "      <td>1999.000000</td>\n",
       "      <td>1999.000000</td>\n",
       "      <td>2000.000000</td>\n",
       "      <td>2000.000000</td>\n",
       "      <td>2000.000000</td>\n",
       "      <td>1999.000000</td>\n",
       "      <td>2000.000000</td>\n",
       "      <td>2000.000000</td>\n",
       "      <td>2000.000000</td>\n",
       "    </tr>\n",
       "    <tr>\n",
       "      <th>mean</th>\n",
       "      <td>1238.518500</td>\n",
       "      <td>0.4950</td>\n",
       "      <td>1.522250</td>\n",
       "      <td>0.509500</td>\n",
       "      <td>4.309500</td>\n",
       "      <td>0.521500</td>\n",
       "      <td>32.035018</td>\n",
       "      <td>0.501601</td>\n",
       "      <td>140.249000</td>\n",
       "      <td>4.520500</td>\n",
       "      <td>...</td>\n",
       "      <td>645.108000</td>\n",
       "      <td>1251.566783</td>\n",
       "      <td>2124.218609</td>\n",
       "      <td>12.306500</td>\n",
       "      <td>5.767000</td>\n",
       "      <td>11.011000</td>\n",
       "      <td>0.761381</td>\n",
       "      <td>0.503000</td>\n",
       "      <td>0.507000</td>\n",
       "      <td>1.500000</td>\n",
       "    </tr>\n",
       "    <tr>\n",
       "      <th>std</th>\n",
       "      <td>439.418206</td>\n",
       "      <td>0.5001</td>\n",
       "      <td>0.816004</td>\n",
       "      <td>0.500035</td>\n",
       "      <td>4.341444</td>\n",
       "      <td>0.499662</td>\n",
       "      <td>18.142986</td>\n",
       "      <td>0.288411</td>\n",
       "      <td>35.399655</td>\n",
       "      <td>2.287837</td>\n",
       "      <td>...</td>\n",
       "      <td>443.780811</td>\n",
       "      <td>432.301505</td>\n",
       "      <td>1085.003435</td>\n",
       "      <td>4.213245</td>\n",
       "      <td>4.356398</td>\n",
       "      <td>5.463955</td>\n",
       "      <td>0.426346</td>\n",
       "      <td>0.500116</td>\n",
       "      <td>0.500076</td>\n",
       "      <td>1.118314</td>\n",
       "    </tr>\n",
       "    <tr>\n",
       "      <th>min</th>\n",
       "      <td>501.000000</td>\n",
       "      <td>0.0000</td>\n",
       "      <td>0.500000</td>\n",
       "      <td>0.000000</td>\n",
       "      <td>0.000000</td>\n",
       "      <td>0.000000</td>\n",
       "      <td>2.000000</td>\n",
       "      <td>0.100000</td>\n",
       "      <td>80.000000</td>\n",
       "      <td>1.000000</td>\n",
       "      <td>...</td>\n",
       "      <td>0.000000</td>\n",
       "      <td>500.000000</td>\n",
       "      <td>256.000000</td>\n",
       "      <td>5.000000</td>\n",
       "      <td>0.000000</td>\n",
       "      <td>2.000000</td>\n",
       "      <td>0.000000</td>\n",
       "      <td>0.000000</td>\n",
       "      <td>0.000000</td>\n",
       "      <td>0.000000</td>\n",
       "    </tr>\n",
       "    <tr>\n",
       "      <th>25%</th>\n",
       "      <td>851.750000</td>\n",
       "      <td>0.0000</td>\n",
       "      <td>0.700000</td>\n",
       "      <td>0.000000</td>\n",
       "      <td>1.000000</td>\n",
       "      <td>0.000000</td>\n",
       "      <td>16.000000</td>\n",
       "      <td>0.200000</td>\n",
       "      <td>109.000000</td>\n",
       "      <td>3.000000</td>\n",
       "      <td>...</td>\n",
       "      <td>282.750000</td>\n",
       "      <td>874.500000</td>\n",
       "      <td>1207.000000</td>\n",
       "      <td>9.000000</td>\n",
       "      <td>2.000000</td>\n",
       "      <td>6.000000</td>\n",
       "      <td>1.000000</td>\n",
       "      <td>0.000000</td>\n",
       "      <td>0.000000</td>\n",
       "      <td>0.750000</td>\n",
       "    </tr>\n",
       "    <tr>\n",
       "      <th>50%</th>\n",
       "      <td>1226.000000</td>\n",
       "      <td>0.0000</td>\n",
       "      <td>1.500000</td>\n",
       "      <td>1.000000</td>\n",
       "      <td>3.000000</td>\n",
       "      <td>1.000000</td>\n",
       "      <td>32.000000</td>\n",
       "      <td>0.500000</td>\n",
       "      <td>141.000000</td>\n",
       "      <td>4.000000</td>\n",
       "      <td>...</td>\n",
       "      <td>564.000000</td>\n",
       "      <td>1247.000000</td>\n",
       "      <td>2147.000000</td>\n",
       "      <td>12.000000</td>\n",
       "      <td>5.000000</td>\n",
       "      <td>11.000000</td>\n",
       "      <td>1.000000</td>\n",
       "      <td>1.000000</td>\n",
       "      <td>1.000000</td>\n",
       "      <td>1.500000</td>\n",
       "    </tr>\n",
       "    <tr>\n",
       "      <th>75%</th>\n",
       "      <td>1615.250000</td>\n",
       "      <td>1.0000</td>\n",
       "      <td>2.200000</td>\n",
       "      <td>1.000000</td>\n",
       "      <td>7.000000</td>\n",
       "      <td>1.000000</td>\n",
       "      <td>48.000000</td>\n",
       "      <td>0.800000</td>\n",
       "      <td>170.000000</td>\n",
       "      <td>7.000000</td>\n",
       "      <td>...</td>\n",
       "      <td>947.250000</td>\n",
       "      <td>1633.000000</td>\n",
       "      <td>3065.000000</td>\n",
       "      <td>16.000000</td>\n",
       "      <td>9.000000</td>\n",
       "      <td>16.000000</td>\n",
       "      <td>1.000000</td>\n",
       "      <td>1.000000</td>\n",
       "      <td>1.000000</td>\n",
       "      <td>2.250000</td>\n",
       "    </tr>\n",
       "    <tr>\n",
       "      <th>max</th>\n",
       "      <td>1998.000000</td>\n",
       "      <td>1.0000</td>\n",
       "      <td>3.000000</td>\n",
       "      <td>1.000000</td>\n",
       "      <td>19.000000</td>\n",
       "      <td>1.000000</td>\n",
       "      <td>64.000000</td>\n",
       "      <td>1.000000</td>\n",
       "      <td>200.000000</td>\n",
       "      <td>8.000000</td>\n",
       "      <td>...</td>\n",
       "      <td>1960.000000</td>\n",
       "      <td>1998.000000</td>\n",
       "      <td>3998.000000</td>\n",
       "      <td>19.000000</td>\n",
       "      <td>18.000000</td>\n",
       "      <td>20.000000</td>\n",
       "      <td>1.000000</td>\n",
       "      <td>1.000000</td>\n",
       "      <td>1.000000</td>\n",
       "      <td>3.000000</td>\n",
       "    </tr>\n",
       "  </tbody>\n",
       "</table>\n",
       "<p>8 rows × 21 columns</p>\n",
       "</div>"
      ],
      "text/plain": [
       "       battery_power       blue  clock_speed     dual_sim           fc  \\\n",
       "count    2000.000000  2000.0000  2000.000000  2000.000000  2000.000000   \n",
       "mean     1238.518500     0.4950     1.522250     0.509500     4.309500   \n",
       "std       439.418206     0.5001     0.816004     0.500035     4.341444   \n",
       "min       501.000000     0.0000     0.500000     0.000000     0.000000   \n",
       "25%       851.750000     0.0000     0.700000     0.000000     1.000000   \n",
       "50%      1226.000000     0.0000     1.500000     1.000000     3.000000   \n",
       "75%      1615.250000     1.0000     2.200000     1.000000     7.000000   \n",
       "max      1998.000000     1.0000     3.000000     1.000000    19.000000   \n",
       "\n",
       "            four_g   int_memory        m_dep    mobile_wt      n_cores  ...  \\\n",
       "count  2000.000000  1999.000000  1999.000000  2000.000000  2000.000000  ...   \n",
       "mean      0.521500    32.035018     0.501601   140.249000     4.520500  ...   \n",
       "std       0.499662    18.142986     0.288411    35.399655     2.287837  ...   \n",
       "min       0.000000     2.000000     0.100000    80.000000     1.000000  ...   \n",
       "25%       0.000000    16.000000     0.200000   109.000000     3.000000  ...   \n",
       "50%       1.000000    32.000000     0.500000   141.000000     4.000000  ...   \n",
       "75%       1.000000    48.000000     0.800000   170.000000     7.000000  ...   \n",
       "max       1.000000    64.000000     1.000000   200.000000     8.000000  ...   \n",
       "\n",
       "         px_height     px_width          ram         sc_h         sc_w  \\\n",
       "count  2000.000000  1999.000000  1999.000000  2000.000000  2000.000000   \n",
       "mean    645.108000  1251.566783  2124.218609    12.306500     5.767000   \n",
       "std     443.780811   432.301505  1085.003435     4.213245     4.356398   \n",
       "min       0.000000   500.000000   256.000000     5.000000     0.000000   \n",
       "25%     282.750000   874.500000  1207.000000     9.000000     2.000000   \n",
       "50%     564.000000  1247.000000  2147.000000    12.000000     5.000000   \n",
       "75%     947.250000  1633.000000  3065.000000    16.000000     9.000000   \n",
       "max    1960.000000  1998.000000  3998.000000    19.000000    18.000000   \n",
       "\n",
       "         talk_time      three_g  touch_screen         wifi  price_range  \n",
       "count  2000.000000  1999.000000   2000.000000  2000.000000  2000.000000  \n",
       "mean     11.011000     0.761381      0.503000     0.507000     1.500000  \n",
       "std       5.463955     0.426346      0.500116     0.500076     1.118314  \n",
       "min       2.000000     0.000000      0.000000     0.000000     0.000000  \n",
       "25%       6.000000     1.000000      0.000000     0.000000     0.750000  \n",
       "50%      11.000000     1.000000      1.000000     1.000000     1.500000  \n",
       "75%      16.000000     1.000000      1.000000     1.000000     2.250000  \n",
       "max      20.000000     1.000000      1.000000     1.000000     3.000000  \n",
       "\n",
       "[8 rows x 21 columns]"
      ]
     },
     "execution_count": 8,
     "metadata": {},
     "output_type": "execute_result"
    }
   ],
   "source": [
    "# finding descriptive statistics of the dataset\n",
    "\n",
    "mobile_price_data.describe()"
   ]
  },
  {
   "cell_type": "code",
   "execution_count": 9,
   "metadata": {},
   "outputs": [
    {
     "name": "stdout",
     "output_type": "stream",
     "text": [
      "The number of records before cleaning the dataset:  2000\n"
     ]
    }
   ],
   "source": [
    "# number of records before cleaning the dataset\n",
    "\n",
    "len_mobile_price_data = len(mobile_price_data)\n",
    "\n",
    "print(\"The number of records before cleaning the dataset: \", len_mobile_price_data)"
   ]
  },
  {
   "cell_type": "markdown",
   "metadata": {},
   "source": [
    "## Cleaning the dataset"
   ]
  },
  {
   "cell_type": "markdown",
   "metadata": {},
   "source": [
    "### Replacing the missing values of features with their respective means"
   ]
  },
  {
   "cell_type": "code",
   "execution_count": 10,
   "metadata": {},
   "outputs": [
    {
     "name": "stdout",
     "output_type": "stream",
     "text": [
      "battery_power    0\n",
      "blue             0\n",
      "clock_speed      0\n",
      "dual_sim         0\n",
      "fc               0\n",
      "four_g           0\n",
      "int_memory       1\n",
      "m_dep            1\n",
      "mobile_wt        0\n",
      "n_cores          0\n",
      "pc               0\n",
      "px_height        0\n",
      "px_width         1\n",
      "ram              1\n",
      "sc_h             0\n",
      "sc_w             0\n",
      "talk_time        0\n",
      "three_g          1\n",
      "touch_screen     0\n",
      "wifi             0\n",
      "price_range      0\n",
      "dtype: int64\n"
     ]
    }
   ],
   "source": [
    "# checking the missing values\n",
    "\n",
    "missing_values_mobile_price_data = mobile_price_data.isna().sum()\n",
    "\n",
    "print(missing_values_mobile_price_data)"
   ]
  },
  {
   "cell_type": "code",
   "execution_count": 11,
   "metadata": {},
   "outputs": [],
   "source": [
    "# making a copy of the original dataset\n",
    "\n",
    "original_mobile_price_data = mobile_price_data.copy"
   ]
  },
  {
   "cell_type": "code",
   "execution_count": 12,
   "metadata": {},
   "outputs": [],
   "source": [
    "# replacing the missing values of features with their respective mean\n",
    "\n",
    "mobile_price_data.loc[mobile_price_data[\"int_memory\"].isna(), \"int_memory\"] = mobile_price_data[\"int_memory\"].mean()\n",
    "\n",
    "mobile_price_data.loc[mobile_price_data[\"m_dep\"].isna(), \"m_dep\"] = mobile_price_data[\"m_dep\"].mean()\n",
    "\n",
    "mobile_price_data.loc[mobile_price_data[\"px_width\"].isna(), \"px_width\"] = mobile_price_data[\"px_width\"].mean()\n",
    "\n",
    "mobile_price_data.loc[mobile_price_data[\"ram\"].isna(), \"ram\"] = mobile_price_data[\"ram\"].mean()\n",
    "\n",
    "mobile_price_data.loc[mobile_price_data[\"three_g\"].isna(), \"three_g\"] = mobile_price_data[\"three_g\"].mean()"
   ]
  },
  {
   "cell_type": "code",
   "execution_count": 13,
   "metadata": {},
   "outputs": [
    {
     "name": "stdout",
     "output_type": "stream",
     "text": [
      "battery_power    0\n",
      "blue             0\n",
      "clock_speed      0\n",
      "dual_sim         0\n",
      "fc               0\n",
      "four_g           0\n",
      "int_memory       0\n",
      "m_dep            0\n",
      "mobile_wt        0\n",
      "n_cores          0\n",
      "pc               0\n",
      "px_height        0\n",
      "px_width         0\n",
      "ram              0\n",
      "sc_h             0\n",
      "sc_w             0\n",
      "talk_time        0\n",
      "three_g          0\n",
      "touch_screen     0\n",
      "wifi             0\n",
      "price_range      0\n",
      "dtype: int64\n"
     ]
    }
   ],
   "source": [
    "# re-checking for the missing values\n",
    "\n",
    "print(mobile_price_data.isna().sum())"
   ]
  },
  {
   "cell_type": "code",
   "execution_count": 14,
   "metadata": {},
   "outputs": [
    {
     "name": "stdout",
     "output_type": "stream",
     "text": [
      "The number of records after replacing the missing values of the dataset:  2000\n"
     ]
    }
   ],
   "source": [
    "# number of records after replacing the missing values of the dataset\n",
    "\n",
    "len_mobile_price_data = len(mobile_price_data)\n",
    "\n",
    "print(\"The number of records after replacing the missing values of the dataset: \", len_mobile_price_data)"
   ]
  },
  {
   "cell_type": "markdown",
   "metadata": {},
   "source": [
    "### Calculating and analysing the correlation"
   ]
  },
  {
   "cell_type": "code",
   "execution_count": 15,
   "metadata": {},
   "outputs": [
    {
     "name": "stdout",
     "output_type": "stream",
     "text": [
      "price_range      1.000000\n",
      "ram              0.917043\n",
      "battery_power    0.200723\n",
      "px_width         0.165661\n",
      "px_height        0.148858\n",
      "int_memory       0.044170\n",
      "sc_w             0.038711\n",
      "pc               0.033599\n",
      "three_g          0.023738\n",
      "sc_h             0.022986\n",
      "fc               0.021998\n",
      "talk_time        0.021859\n",
      "blue             0.020573\n",
      "wifi             0.018785\n",
      "dual_sim         0.017444\n",
      "four_g           0.014772\n",
      "n_cores          0.004399\n",
      "m_dep            0.000159\n",
      "clock_speed     -0.006606\n",
      "mobile_wt       -0.030302\n",
      "touch_screen    -0.030411\n",
      "Name: price_range, dtype: float64\n"
     ]
    }
   ],
   "source": [
    "# calculating the correlation coefficients between price_range and other variables\n",
    "\n",
    "corr_mobile_price_data = mobile_price_data.corr()[\"price_range\"]\n",
    "\n",
    "# ordering the correlation coefficients from highest to lowest\n",
    "\n",
    "sorted_corr_mobile_price_data = corr_mobile_price_data.sort_values(ascending = False)\n",
    "\n",
    "# printing the ordered correlation coefficients\n",
    "\n",
    "print(sorted_corr_mobile_price_data)"
   ]
  },
  {
   "cell_type": "markdown",
   "metadata": {},
   "source": [
    "#### Analysing the Correlations with price range and other variables\n",
    "\n",
    "\n",
    "##### Four most correlated variables\n",
    "* **price_range** and **ram** have the highest correlation of 0.917849. This indicates that as the RAM (Random Access Memory) of the mobile phone increases, the price range of the phone also tends to increase.\n",
    "* **price_range** and **battery_power** have the second highest correlation of 0.200931. This suggests that as the battery power (total energy a battery can store in one time measured in mAh) of the mobile phone increases, the price range of the phone also tends to increase.\n",
    "* **price_range** and **px_width** have the third highest correlation of 0.154740. This indicates that as the pixel width (Pixel Resolution Width) of the mobile phone's display increases, the price range of the phone also tends to increase.\n",
    "* **price_range** and **px_height** have the fourth highest correlation of 0.137976. Similar to the correlation with px_width, this suggests that as the pixel height (Pixel Resolution Height) of the mobile phone's display increases, the price range of the phone also tends to increase.\n",
    "\n",
    "##### Four least correlated variables\n",
    "* **price_range** and **m_dep** have the fourth least correlation of 0.000159. This indicates that the depth of the mobile phone has almost no relationship with the price range of the device. The depth of the phone does not seem to be a significant factor in determining the price range.\n",
    "* **price_range** and **clock_speed** have the third least correlation of -0.006606, which is very close to 0. This suggests that the speed of the microprocessor has a negligible impact on the price range of the mobile phone.\n",
    "* **price_range** and **mobile_wt** have the second least correlation of -0.030302, which is also very low. This indicates that the weight of the mobile phone has a very weak negative relationship with the price range. In other words, as the weight of the phone increases, the price range tends to decrease slightly, but this relationship is not very strong.\n",
    "* **price_range** and **touch_screen** have the least correlation of -0.030411, which is again very close to 0. This suggests that whether the mobile phone has a touch screen or not has little to no impact on the price range of the device.\n",
    "\n",
    "##### Selected features\n",
    "\n",
    "For the predictions of **price_range**, the selected features are the four most correlated variables: **ram**, **battery_power**, **px_width**, **px_height**, which have the strongest influence on the **price_range**."
   ]
  },
  {
   "cell_type": "markdown",
   "metadata": {},
   "source": [
    "### Finding and Removing Outliers"
   ]
  },
  {
   "cell_type": "code",
   "execution_count": 16,
   "metadata": {},
   "outputs": [
    {
     "data": {
      "image/png": "[encoded data removed]",
      "text/plain": [
       "<Figure size 1000x600 with 1 Axes>"
      ]
     },
     "metadata": {},
     "output_type": "display_data"
    }
   ],
   "source": [
    "# creating a box plot for four most correlated features\n",
    "\n",
    "plt.figure(figsize = (10, 6))\n",
    "mobile_price_data[[\"ram\", \"battery_power\", \"px_width\", \"px_height\"]].boxplot()\n",
    "plt.title(\"Box Plot of Four Most Correlated Features\")\n",
    "plt.show()"
   ]
  },
  {
   "cell_type": "code",
   "execution_count": 17,
   "metadata": {},
   "outputs": [
    {
     "name": "stdout",
     "output_type": "stream",
     "text": [
      "The number of outliers in the dataset:  2\n"
     ]
    }
   ],
   "source": [
    "# calculating first quartile (q1) and third quartile (q3)\n",
    "\n",
    "px_height_q1 = mobile_price_data[\"px_height\"].quantile(0.25)\n",
    "px_height_q3 = mobile_price_data[\"px_height\"].quantile(0.75)\n",
    "\n",
    "# calculating the interquartile range (iqr)\n",
    "\n",
    "px_height_iqr = px_height_q3 - px_height_q1\n",
    "\n",
    "# setting the lower and upper bound\n",
    "\n",
    "px_height_lower_bound = px_height_q1 - 1.5 * px_height_iqr\n",
    "px_height_upper_bound = px_height_q3 + 1.5 * px_height_iqr\n",
    "\n",
    "# finding the outliers\n",
    "\n",
    "outliers = mobile_price_data[(mobile_price_data[\"px_height\"] < px_height_lower_bound) | (mobile_price_data[\"px_height\"] > px_height_upper_bound)]\n",
    "\n",
    "# printing the number of outliers\n",
    "\n",
    "print(\"The number of outliers in the dataset: \", outliers.shape[0])"
   ]
  },
  {
   "cell_type": "code",
   "execution_count": 18,
   "metadata": {},
   "outputs": [
    {
     "name": "stdout",
     "output_type": "stream",
     "text": [
      "Number of records in the cleaned dataset: 1998\n"
     ]
    }
   ],
   "source": [
    "# dropping outliers from the dataset\n",
    "\n",
    "cleaned_mobile_price_data = mobile_price_data.loc[~mobile_price_data.index.isin(outliers.index)]\n",
    "\n",
    "# finding the number of records in the cleaned dataset\n",
    "\n",
    "print(\"Number of records in the cleaned dataset:\", cleaned_mobile_price_data.shape[0])"
   ]
  },
  {
   "cell_type": "markdown",
   "metadata": {},
   "source": [
    "### Splitting the dataset (Training set : Test set -> 8 : 2)"
   ]
  },
  {
   "cell_type": "code",
   "execution_count": 19,
   "metadata": {},
   "outputs": [
    {
     "name": "stdout",
     "output_type": "stream",
     "text": [
      "Number of records in trining set:  1598\n",
      "Number of records in testing set:  400\n"
     ]
    }
   ],
   "source": [
    "# spliting the data into train and test set\n",
    "\n",
    "train, test = train_test_split(cleaned_mobile_price_data, test_size = 0.2, random_state = 142)\n",
    "\n",
    "# printing the number of records in the splits\n",
    "\n",
    "print(\"Number of records in trining set: \", train.shape[0])\n",
    "print(\"Number of records in testing set: \", test.shape[0])"
   ]
  },
  {
   "cell_type": "markdown",
   "metadata": {},
   "source": [
    "### Training Logistics Regression Model"
   ]
  },
  {
   "cell_type": "code",
   "execution_count": 20,
   "metadata": {},
   "outputs": [],
   "source": [
    "# building model with the four most correlated features\n",
    "\n",
    "x_reg_train = train[[\"ram\", \"battery_power\", \"px_width\", \"px_height\"]]\n",
    "y_reg_train = train[\"price_range\"]\n",
    "x_reg_test = test[[\"ram\", \"battery_power\", \"px_width\", \"px_height\"]]\n",
    "y_reg_test = test[\"price_range\"]"
   ]
  },
  {
   "cell_type": "code",
   "execution_count": 21,
   "metadata": {},
   "outputs": [
    {
     "data": {
      "text/html": [
       "<style>#sk-container-id-1 {color: black;background-color: white;}#sk-container-id-1 pre{padding: 0;}#sk-container-id-1 div.sk-toggleable {background-color: white;}#sk-container-id-1 label.sk-toggleable__label {cursor: pointer;display: block;width: 100%;margin-bottom: 0;padding: 0.3em;box-sizing: border-box;text-align: center;}#sk-container-id-1 label.sk-toggleable__label-arrow:before {content: \"▸\";float: left;margin-right: 0.25em;color: #696969;}#sk-container-id-1 label.sk-toggleable__label-arrow:hover:before {color: black;}#sk-container-id-1 div.sk-estimator:hover label.sk-toggleable__label-arrow:before {color: black;}#sk-container-id-1 div.sk-toggleable__content {max-height: 0;max-width: 0;overflow: hidden;text-align: left;background-color: #f0f8ff;}#sk-container-id-1 div.sk-toggleable__content pre {margin: 0.2em;color: black;border-radius: 0.25em;background-color: #f0f8ff;}#sk-container-id-1 input.sk-toggleable__control:checked~div.sk-toggleable__content {max-height: 200px;max-width: 100%;overflow: auto;}#sk-container-id-1 input.sk-toggleable__control:checked~label.sk-toggleable__label-arrow:before {content: \"▾\";}#sk-container-id-1 div.sk-estimator input.sk-toggleable__control:checked~label.sk-toggleable__label {background-color: #d4ebff;}#sk-container-id-1 div.sk-label input.sk-toggleable__control:checked~label.sk-toggleable__label {background-color: #d4ebff;}#sk-container-id-1 input.sk-hidden--visually {border: 0;clip: rect(1px 1px 1px 1px);clip: rect(1px, 1px, 1px, 1px);height: 1px;margin: -1px;overflow: hidden;padding: 0;position: absolute;width: 1px;}#sk-container-id-1 div.sk-estimator {font-family: monospace;background-color: #f0f8ff;border: 1px dotted black;border-radius: 0.25em;box-sizing: border-box;margin-bottom: 0.5em;}#sk-container-id-1 div.sk-estimator:hover {background-color: #d4ebff;}#sk-container-id-1 div.sk-parallel-item::after {content: \"\";width: 100%;border-bottom: 1px solid gray;flex-grow: 1;}#sk-container-id-1 div.sk-label:hover label.sk-toggleable__label {background-color: #d4ebff;}#sk-container-id-1 div.sk-serial::before {content: \"\";position: absolute;border-left: 1px solid gray;box-sizing: border-box;top: 0;bottom: 0;left: 50%;z-index: 0;}#sk-container-id-1 div.sk-serial {display: flex;flex-direction: column;align-items: center;background-color: white;padding-right: 0.2em;padding-left: 0.2em;position: relative;}#sk-container-id-1 div.sk-item {position: relative;z-index: 1;}#sk-container-id-1 div.sk-parallel {display: flex;align-items: stretch;justify-content: center;background-color: white;position: relative;}#sk-container-id-1 div.sk-item::before, #sk-container-id-1 div.sk-parallel-item::before {content: \"\";position: absolute;border-left: 1px solid gray;box-sizing: border-box;top: 0;bottom: 0;left: 50%;z-index: -1;}#sk-container-id-1 div.sk-parallel-item {display: flex;flex-direction: column;z-index: 1;position: relative;background-color: white;}#sk-container-id-1 div.sk-parallel-item:first-child::after {align-self: flex-end;width: 50%;}#sk-container-id-1 div.sk-parallel-item:last-child::after {align-self: flex-start;width: 50%;}#sk-container-id-1 div.sk-parallel-item:only-child::after {width: 0;}#sk-container-id-1 div.sk-dashed-wrapped {border: 1px dashed gray;margin: 0 0.4em 0.5em 0.4em;box-sizing: border-box;padding-bottom: 0.4em;background-color: white;}#sk-container-id-1 div.sk-label label {font-family: monospace;font-weight: bold;display: inline-block;line-height: 1.2em;}#sk-container-id-1 div.sk-label-container {text-align: center;}#sk-container-id-1 div.sk-container {/* jupyter's `normalize.less` sets `[hidden] { display: none; }` but bootstrap.min.css set `[hidden] { display: none !important; }` so we also need the `!important` here to be able to override the default hidden behavior on the sphinx rendered scikit-learn.org. See: https://github.com/scikit-learn/scikit-learn/issues/21755 */display: inline-block !important;position: relative;}#sk-container-id-1 div.sk-text-repr-fallback {display: none;}</style><div id=\"sk-container-id-1\" class=\"sk-top-container\"><div class=\"sk-text-repr-fallback\"><pre>LogisticRegression()</pre><b>In a Jupyter environment, please rerun this cell to show the HTML representation or trust the notebook. <br />On GitHub, the HTML representation is unable to render, please try loading this page with nbviewer.org.</b></div><div class=\"sk-container\" hidden><div class=\"sk-item\"><div class=\"sk-estimator sk-toggleable\"><input class=\"sk-toggleable__control sk-hidden--visually\" id=\"sk-estimator-id-1\" type=\"checkbox\" checked><label for=\"sk-estimator-id-1\" class=\"sk-toggleable__label sk-toggleable__label-arrow\">LogisticRegression</label><div class=\"sk-toggleable__content\"><pre>LogisticRegression()</pre></div></div></div></div></div>"
      ],
      "text/plain": [
       "LogisticRegression()"
      ]
     },
     "execution_count": 21,
     "metadata": {},
     "output_type": "execute_result"
    }
   ],
   "source": [
    "# training the model\n",
    "\n",
    "reg = LogisticRegression()\n",
    "reg.fit(x_reg_train, y_reg_train)"
   ]
  },
  {
   "cell_type": "code",
   "execution_count": 22,
   "metadata": {},
   "outputs": [
    {
     "name": "stdout",
     "output_type": "stream",
     "text": [
      "Predictions:  [1 0 3 3 1 2 2 3 2 3 3 1 0 3 3 3 0 3 1 1 3 0 3 2 0 2 3 3 3 2 0 1 3 2 0 2 0\n",
      " 1 2 2 3 0 1 2 2 1 1 3 0 0 3 0 3 3 1 2 2 3 0 1 1 3 1 3 2 2 0 3 2 1 0 3 0 1\n",
      " 0 1 2 2 1 3 3 0 0 1 2 1 2 3 2 2 0 2 2 0 2 0 3 1 0 0 0 3 3 3 0 1 3 1 2 0 1\n",
      " 2 1 3 1 1 3 0 1 0 2 3 2 2 2 0 2 2 2 1 0 3 1 1 0 0 1 1 0 3 2 2 3 0 3 0 1 1\n",
      " 1 3 3 3 2 0 0 1 3 3 0 2 2 3 1 1 1 3 3 1 2 0 1 0 3 3 1 1 0 2 2 0 3 2 2 0 2\n",
      " 3 2 1 0 1 2 1 0 0 0 0 0 1 1 1 2 3 1 2 0 2 2 1 1 1 0 3 0 0 3 1 1 1 1 2 2 3\n",
      " 2 0 0 0 3 3 2 0 1 2 0 2 1 1 0 0 1 3 2 0 0 2 0 3 3 0 3 1 2 0 0 1 3 1 2 1 1\n",
      " 1 0 2 1 0 1 3 0 1 3 3 1 0 2 2 1 3 2 3 2 1 3 1 2 1 1 2 3 0 3 0 1 2 2 3 1 2\n",
      " 2 3 2 2 1 1 2 1 1 1 2 1 1 1 3 3 3 2 1 1 0 3 0 3 0 2 1 2 1 2 1 1 3 0 3 1 1\n",
      " 2 0 1 2 1 3 0 0 0 1 2 0 3 3 1 2 2 3 0 2 0 0 2 2 0 3 0 0 2 3 2 0 0 1 2 1 1\n",
      " 2 1 2 3 1 0 1 1 1 1 1 3 1 2 0 2 1 1 1 3 3 0 1 1 1 3 0 2 2 2]\n"
     ]
    }
   ],
   "source": [
    "# predicting based on training and test set with logistics regression the model\n",
    "\n",
    "train_reg_predicted = reg.predict(x_reg_train)\n",
    "\n",
    "test_reg_predicted = reg.predict(x_reg_test)\n",
    "\n",
    "# printing the predictions\n",
    "\n",
    "print(\"Predictions: \", test_reg_predicted)"
   ]
  },
  {
   "cell_type": "code",
   "execution_count": 23,
   "metadata": {},
   "outputs": [
    {
     "name": "stdout",
     "output_type": "stream",
     "text": [
      "Mean Squared Error:  0.055\n",
      "Rooted Mean Squared Error:  0.2345207879911715\n",
      "R-Squared:  0.9527326440177253\n"
     ]
    }
   ],
   "source": [
    "# evaluating the model\n",
    "\n",
    "test_reg_mse = ((np.array(y_reg_test)-test_reg_predicted) ** 2).sum() / len(y_reg_test)\n",
    "test_reg_rmse = np.sqrt(test_reg_mse)\n",
    "test_reg_r2 = r2_score(y_reg_test, test_reg_predicted)\n",
    "print(\"Mean Squared Error: \", test_reg_mse)\n",
    "print(\"Rooted Mean Squared Error: \", test_reg_rmse)\n",
    "print(\"R-Squared: \", test_reg_r2)"
   ]
  },
  {
   "cell_type": "code",
   "execution_count": 24,
   "metadata": {},
   "outputs": [
    {
     "name": "stdout",
     "output_type": "stream",
     "text": [
      "The accuracy score of the train set:  0.9605757196495619\n",
      "The accuracy score of the test set:  0.945\n"
     ]
    }
   ],
   "source": [
    "# evaluating the accuracy score of training and test set for the logistic regression model\n",
    "\n",
    "train_reg_accuracy = accuracy_score(y_reg_train, train_reg_predicted)\n",
    "test_reg_accuracy = accuracy_score(y_reg_test, test_reg_predicted)\n",
    "\n",
    "# printing the accuracy score\n",
    "\n",
    "print(\"The accuracy score of the train set: \", train_reg_accuracy)\n",
    "print(\"The accuracy score of the test set: \", test_reg_accuracy)"
   ]
  },
  {
   "cell_type": "markdown",
   "metadata": {},
   "source": [
    "#### Analysing the Logistic Regression Model\n",
    "\n",
    "* The MSE is 0.055, which is a relatively low value, indicating that the model's predictions are close to the actual target values on average.\n",
    "* The RMSE is 0.2345, which is also a low value, suggesting that the model's predictions have a small average deviation from the actual target values.\n",
    "* The R-Squared value is 0.9527, which is very close to 1. This indicates that the model is able to explain a large proportion of the variance in the target variable, **price_range**, using the selected features.\n",
    "\n",
    "##### Accuracy of the Model\n",
    "* The accuracy score on the training set is 0.9606, which is very high. This suggests that the model is able to accurately classify the training data.\n",
    "* The accuracy score on the test set is 0.945, which is also very high. This indicates that the model is able to generalize well to new, unseen data and maintain a high level of accuracy."
   ]
  },
  {
   "cell_type": "markdown",
   "metadata": {},
   "source": [
    "### Training KNN Model"
   ]
  },
  {
   "cell_type": "code",
   "execution_count": 25,
   "metadata": {},
   "outputs": [
    {
     "name": "stdout",
     "output_type": "stream",
     "text": [
      "The shape of x_knn_train:  (1598, 4)\n",
      "The shape of y_knn_train:  1598\n",
      "The shape of x_knn_test:  (400, 4)\n",
      "The shape of y_knn_test:  400\n"
     ]
    }
   ],
   "source": [
    "# building train and test set for knn model with the four most correlated features\n",
    "\n",
    "x_knn_train = train[[\"ram\", \"battery_power\", \"px_width\", \"px_height\"]]\n",
    "y_knn_train = train[\"price_range\"]\n",
    "x_knn_test = test[[\"ram\", \"battery_power\", \"px_width\", \"px_height\"]]\n",
    "y_knn_test = test[\"price_range\"]\n",
    "\n",
    "# finding the shape of the splits\n",
    "\n",
    "print(\"The shape of x_knn_train: \", x_knn_train.shape)\n",
    "print(\"The shape of y_knn_train: \", y_knn_train.shape[0])\n",
    "print(\"The shape of x_knn_test: \", x_knn_test.shape)\n",
    "print(\"The shape of y_knn_test: \", y_knn_test.shape[0])"
   ]
  },
  {
   "cell_type": "code",
   "execution_count": 26,
   "metadata": {},
   "outputs": [
    {
     "data": {
      "text/html": [
       "<style>#sk-container-id-2 {color: black;background-color: white;}#sk-container-id-2 pre{padding: 0;}#sk-container-id-2 div.sk-toggleable {background-color: white;}#sk-container-id-2 label.sk-toggleable__label {cursor: pointer;display: block;width: 100%;margin-bottom: 0;padding: 0.3em;box-sizing: border-box;text-align: center;}#sk-container-id-2 label.sk-toggleable__label-arrow:before {content: \"▸\";float: left;margin-right: 0.25em;color: #696969;}#sk-container-id-2 label.sk-toggleable__label-arrow:hover:before {color: black;}#sk-container-id-2 div.sk-estimator:hover label.sk-toggleable__label-arrow:before {color: black;}#sk-container-id-2 div.sk-toggleable__content {max-height: 0;max-width: 0;overflow: hidden;text-align: left;background-color: #f0f8ff;}#sk-container-id-2 div.sk-toggleable__content pre {margin: 0.2em;color: black;border-radius: 0.25em;background-color: #f0f8ff;}#sk-container-id-2 input.sk-toggleable__control:checked~div.sk-toggleable__content {max-height: 200px;max-width: 100%;overflow: auto;}#sk-container-id-2 input.sk-toggleable__control:checked~label.sk-toggleable__label-arrow:before {content: \"▾\";}#sk-container-id-2 div.sk-estimator input.sk-toggleable__control:checked~label.sk-toggleable__label {background-color: #d4ebff;}#sk-container-id-2 div.sk-label input.sk-toggleable__control:checked~label.sk-toggleable__label {background-color: #d4ebff;}#sk-container-id-2 input.sk-hidden--visually {border: 0;clip: rect(1px 1px 1px 1px);clip: rect(1px, 1px, 1px, 1px);height: 1px;margin: -1px;overflow: hidden;padding: 0;position: absolute;width: 1px;}#sk-container-id-2 div.sk-estimator {font-family: monospace;background-color: #f0f8ff;border: 1px dotted black;border-radius: 0.25em;box-sizing: border-box;margin-bottom: 0.5em;}#sk-container-id-2 div.sk-estimator:hover {background-color: #d4ebff;}#sk-container-id-2 div.sk-parallel-item::after {content: \"\";width: 100%;border-bottom: 1px solid gray;flex-grow: 1;}#sk-container-id-2 div.sk-label:hover label.sk-toggleable__label {background-color: #d4ebff;}#sk-container-id-2 div.sk-serial::before {content: \"\";position: absolute;border-left: 1px solid gray;box-sizing: border-box;top: 0;bottom: 0;left: 50%;z-index: 0;}#sk-container-id-2 div.sk-serial {display: flex;flex-direction: column;align-items: center;background-color: white;padding-right: 0.2em;padding-left: 0.2em;position: relative;}#sk-container-id-2 div.sk-item {position: relative;z-index: 1;}#sk-container-id-2 div.sk-parallel {display: flex;align-items: stretch;justify-content: center;background-color: white;position: relative;}#sk-container-id-2 div.sk-item::before, #sk-container-id-2 div.sk-parallel-item::before {content: \"\";position: absolute;border-left: 1px solid gray;box-sizing: border-box;top: 0;bottom: 0;left: 50%;z-index: -1;}#sk-container-id-2 div.sk-parallel-item {display: flex;flex-direction: column;z-index: 1;position: relative;background-color: white;}#sk-container-id-2 div.sk-parallel-item:first-child::after {align-self: flex-end;width: 50%;}#sk-container-id-2 div.sk-parallel-item:last-child::after {align-self: flex-start;width: 50%;}#sk-container-id-2 div.sk-parallel-item:only-child::after {width: 0;}#sk-container-id-2 div.sk-dashed-wrapped {border: 1px dashed gray;margin: 0 0.4em 0.5em 0.4em;box-sizing: border-box;padding-bottom: 0.4em;background-color: white;}#sk-container-id-2 div.sk-label label {font-family: monospace;font-weight: bold;display: inline-block;line-height: 1.2em;}#sk-container-id-2 div.sk-label-container {text-align: center;}#sk-container-id-2 div.sk-container {/* jupyter's `normalize.less` sets `[hidden] { display: none; }` but bootstrap.min.css set `[hidden] { display: none !important; }` so we also need the `!important` here to be able to override the default hidden behavior on the sphinx rendered scikit-learn.org. See: https://github.com/scikit-learn/scikit-learn/issues/21755 */display: inline-block !important;position: relative;}#sk-container-id-2 div.sk-text-repr-fallback {display: none;}</style><div id=\"sk-container-id-2\" class=\"sk-top-container\"><div class=\"sk-text-repr-fallback\"><pre>KNeighborsClassifier(n_neighbors=22)</pre><b>In a Jupyter environment, please rerun this cell to show the HTML representation or trust the notebook. <br />On GitHub, the HTML representation is unable to render, please try loading this page with nbviewer.org.</b></div><div class=\"sk-container\" hidden><div class=\"sk-item\"><div class=\"sk-estimator sk-toggleable\"><input class=\"sk-toggleable__control sk-hidden--visually\" id=\"sk-estimator-id-2\" type=\"checkbox\" checked><label for=\"sk-estimator-id-2\" class=\"sk-toggleable__label sk-toggleable__label-arrow\">KNeighborsClassifier</label><div class=\"sk-toggleable__content\"><pre>KNeighborsClassifier(n_neighbors=22)</pre></div></div></div></div></div>"
      ],
      "text/plain": [
       "KNeighborsClassifier(n_neighbors=22)"
      ]
     },
     "execution_count": 26,
     "metadata": {},
     "output_type": "execute_result"
    }
   ],
   "source": [
    "# builiding the KNN model\n",
    "\n",
    "knn = KNeighborsClassifier(n_neighbors = 22) # selecting k = 22 on ad-hoc basis\n",
    "\n",
    "# training the KNN model\n",
    "\n",
    "knn.fit(x_knn_train, y_knn_train)"
   ]
  },
  {
   "cell_type": "code",
   "execution_count": 27,
   "metadata": {},
   "outputs": [],
   "source": [
    "# predicting based on training and test set\n",
    "\n",
    "train_knn_prediction = knn.predict(x_knn_train)\n",
    "test_knn_prediction = knn.predict(x_knn_test)"
   ]
  },
  {
   "cell_type": "code",
   "execution_count": 28,
   "metadata": {},
   "outputs": [
    {
     "name": "stdout",
     "output_type": "stream",
     "text": [
      "The accuracy score of the training set:  0.9449311639549437\n",
      "The accuracy score of the testing set:  0.9225\n"
     ]
    }
   ],
   "source": [
    "# evaluating the accuracy score of training and test set for the KNN model\n",
    "\n",
    "train_knn_accuracy = accuracy_score(y_knn_train, train_knn_prediction)\n",
    "test_knn_accuracy = accuracy_score(y_knn_test, test_knn_prediction)\n",
    "\n",
    "# printing the accuracy score\n",
    "\n",
    "print(\"The accuracy score of the training set: \", train_knn_accuracy)\n",
    "print(\"The accuracy score of the testing set: \", test_knn_accuracy)"
   ]
  },
  {
   "cell_type": "markdown",
   "metadata": {},
   "source": [
    "#### Analysing the KNN Model\n",
    "\n",
    "\n",
    "##### Accuracy of the Model\n",
    "* The accuracy score on the training set is 0.9449, which is very high. This suggests that the KNN model is able to accurately classify the training data.\r",
    "* The accuracy score on the test set is 0.9225, which is also very high. This indicates that the model is able to generalize well to new, unseen data and maintain a high level of accuracy.\n",
    "\n",
    "The results suggest that the KNN model is performing very well in predicting the **price_range** of mobile phones based on the selected features. The high accuracy scores on both the training and test sets indicate that the model is able to effectively capture the underlying patterns in the data and make accurate predictions. This suggests that the selected features are highly relevant for predicting the **price_range** of mobile phones, and the KNN algorithm is a suitable choice for this classification problem. \n",
    "The ad-hoc selection of the initial K value of 22 seems to have resulted in good model performance."
   ]
  },
  {
   "cell_type": "markdown",
   "metadata": {},
   "source": [
    "### Tuning the hyper-parameter K"
   ]
  },
  {
   "cell_type": "code",
   "execution_count": 29,
   "metadata": {},
   "outputs": [
    {
     "name": "stdout",
     "output_type": "stream",
     "text": [
      "Best value of k:  11\n",
      "The Accuracy of best value of k:  0.9274275078369906\n"
     ]
    }
   ],
   "source": [
    "# defining the range of k values to search\n",
    "\n",
    "k_range = range(1, 31, 2)\n",
    "\n",
    "# defining the grid search parameters\n",
    "\n",
    "parameter_grid = {'n_neighbors': k_range}\n",
    "\n",
    "# perform grid search\n",
    "\n",
    "grid_search = GridSearchCV(knn, parameter_grid, cv = 5, scoring = \"accuracy\")\n",
    "grid_search.fit(x_knn_train, y_knn_train)\n",
    "\n",
    "# finding the best value of k and accuracy\n",
    "\n",
    "best_k_value = grid_search.best_params_[\"n_neighbors\"]\n",
    "accuracy_k = grid_search.best_score_\n",
    "\n",
    "# printing the best value of k and accuracy\n",
    "\n",
    "print(\"Best value of k: \", best_k_value)\n",
    "print(\"The Accuracy of best value of k: \", accuracy_k)"
   ]
  },
  {
   "cell_type": "code",
   "execution_count": 30,
   "metadata": {},
   "outputs": [
    {
     "name": "stdout",
     "output_type": "stream",
     "text": [
      "dict_keys(['mean_fit_time', 'std_fit_time', 'mean_score_time', 'std_score_time', 'param_n_neighbors', 'params', 'split0_test_score', 'split1_test_score', 'split2_test_score', 'split3_test_score', 'split4_test_score', 'mean_test_score', 'std_test_score', 'rank_test_score'])\n"
     ]
    }
   ],
   "source": [
    "# printing the keys in the cv_results_ attribute\n",
    "\n",
    "print(grid_search.cv_results_.keys())"
   ]
  },
  {
   "cell_type": "code",
   "execution_count": 31,
   "metadata": {},
   "outputs": [
    {
     "data": {
      "image/png": "[encoded data removed]",
      "text/plain": [
       "<Figure size 1000x600 with 1 Axes>"
      ]
     },
     "metadata": {},
     "output_type": "display_data"
    }
   ],
   "source": [
    "# getting the accuracy scores for each value of k\n",
    "\n",
    "k_values = list(k_range)\n",
    "test_scores = grid_search.cv_results_['mean_test_score']\n",
    "\n",
    "# plotting the results\n",
    "\n",
    "plt.figure(figsize = (10, 6))\n",
    "plt.plot(k_values, test_scores, label = \"Test Accuracy\")\n",
    "plt.xlabel(\"Number of Neighbors (K)\")\n",
    "plt.ylabel(\"Accuracy\")\n",
    "plt.title(\"KNN Hyperparameter Tuning\")\n",
    "plt.legend()\n",
    "plt.show()"
   ]
  },
  {
   "cell_type": "markdown",
   "metadata": {},
   "source": [
    "#### Analysing the tuning of hyper-parameter k\n",
    "\n",
    "The analysis focuses on training a KNN model to predict the **price_range** of mobile phones based on selected features. The initial KNN model was trained with an ad-hoc value of K set to 22, resulting in an accuracy score of 0.9225 on the test set. To further optimize the model, a GridSearchCV process was used to tune the hyperparameter K, which identified the optimal value of K as 11. With this optimal value of K, the KNN model achieved an improved accuracy score of 0.9274 on the test set. The tuning of the K hyperparameter through GridSearchCV has helped to improve the model's generalization capabilities, making it a reliable and accurate predictor for this classification problem.\n",
    "\n",
    "##### Explaining how k influences prediction performance\n",
    "\n",
    "The value of K in the KNN algorithm determines the number of nearest neighbors considered when making a prediction. A smaller K means the model relies on fewer neighbors, while a larger K means it considers more neighbors.\n",
    "\n",
    "This choice involves a trade-off between bias and variance:\n",
    "- A smaller K can lead to a more complex model with lower bias but higher variance, potentially overfitting the training data.\n",
    "- A larger K can result in a simpler model with higher bias but lower variance, potentially undefitting.\n",
    "\n",
    "\n",
    "The optimal K strikes a balance, providing the best predictive performance on the test data. Techniques like GridSearchCV help identify this value by evaluating the model's accuracy across a range of K values.\n",
    "In this case, the best K was found to be 11, suggesting this value offers the right balance between bias and variance for the given dataset."
   ]
  },
  {
   "cell_type": "code",
   "execution_count": 32,
   "metadata": {},
   "outputs": [
    {
     "data": {
      "image/png": "[encoded data removed]",
      "text/plain": [
       "<Figure size 800x600 with 1 Axes>"
      ]
     },
     "metadata": {},
     "output_type": "display_data"
    }
   ],
   "source": [
    "# creating a bar graph to compare both models\n",
    "\n",
    "models = [\"Logistic Regression\", \"K-Nearest Neighbors\"]\n",
    "train_accuracies = [train_reg_accuracy, train_knn_accuracy]  \n",
    "test_accuracies = [test_reg_accuracy, test_knn_accuracy]\n",
    "\n",
    "# creating the figure and axis\n",
    "\n",
    "fig, ax = plt.subplots(figsize = (8, 6))\n",
    "\n",
    "# setting the x-axis positions for the bars\n",
    "\n",
    "x = np.arange(len(models))\n",
    "bar_width = 0.4\n",
    "\n",
    "# plotting the training and test accuracy bars\n",
    "\n",
    "ax.bar(x - bar_width / 2, train_accuracies, bar_width, label = \"Training Set\")\n",
    "ax.bar(x + bar_width / 2, test_accuracies, bar_width, label = \"Test Set\")\n",
    "\n",
    "# adding labels and title\n",
    "\n",
    "ax.set_xlabel(\"Models\")\n",
    "ax.set_ylabel(\"Accuracy\")\n",
    "ax.set_title(\"Comparison of Logistic Regression and KNN Models\")\n",
    "ax.set_xticks(x)\n",
    "ax.set_xticklabels(models)\n",
    "ax.legend()\n",
    "\n",
    "# adjusting the spacing between the bars\n",
    "\n",
    "plt.subplots_adjust(bottom = 0.15)\n",
    "plt.show()"
   ]
  },
  {
   "cell_type": "markdown",
   "metadata": {},
   "source": [
    "#### Comparing both models\n",
    "\n",
    "This analysis compares the performance of the Logistic Regression and KNN models in predicting the **price_range** of mobile phones. The Logistic Regression model achieved a very high accuracy score of 0.9606 on the training set and 0.945 on the test set, indicating that it is able to accurately classify the mobile phones into the correct price range categories. Similarly, the KNN model also performed exceptionally well, with a training accuracy of 0.9449 and a test accuracy of 0.9225. The high accuracy scores for both models suggest that they are able to effectively capture the underlying patterns in the data and generalize well to new, unseen samples. The bar graph visualization further highlights the comparable performance of the two models, with the Logistic Regression model slightly outperforming the KNN model on both the training and test sets. Overall, both the Logistic Regression and KNN models appear to be reliable and accurate predictors of the **price_range** for the mobile phones in the dataset."
   ]
  }
 ],
 "metadata": {
  "colab": {
   "provenance": []
  },
  "kernelspec": {
   "display_name": "Python 3 (ipykernel)",
   "language": "python",
   "name": "python3"
  },
  "language_info": {
   "codemirror_mode": {
    "name": "ipython",
    "version": 3
   },
   "file_extension": ".py",
   "mimetype": "text/x-python",
   "name": "python",
   "nbconvert_exporter": "python",
   "pygments_lexer": "ipython3",
   "version": "3.11.7"
  }
 },
 "nbformat": 4,
 "nbformat_minor": 4
}
